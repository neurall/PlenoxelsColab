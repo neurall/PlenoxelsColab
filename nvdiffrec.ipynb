{
  "nbformat": 4,
  "nbformat_minor": 0,
  "metadata": {
    "colab": {
      "name": "nvdiffrec.ipynb",
      "provenance": [],
      "collapsed_sections": [],
      "authorship_tag": "ABX9TyNi+TJ/pKnIY0qw32N5ms9d",
      "include_colab_link": true
    },
    "kernelspec": {
      "name": "python3",
      "display_name": "Python 3"
    },
    "language_info": {
      "name": "python"
    },
    "accelerator": "GPU"
  },
  "cells": [
    {
      "cell_type": "markdown",
      "metadata": {
        "id": "view-in-github",
        "colab_type": "text"
      },
      "source": [
        "<a href=\"https://colab.research.google.com/github/neurall/PlenoxelsColab/blob/main/nvdiffrec.ipynb\" target=\"_parent\"><img src=\"https://colab.research.google.com/assets/colab-badge.svg\" alt=\"Open In Colab\"/></a>"
      ]
    },
    {
      "cell_type": "code",
      "execution_count": null,
      "metadata": {
        "id": "1Id6rH9noK0T"
      },
      "outputs": [],
      "source": [
        "!pip install ninja   glfw xatlas  \n",
        "!pip install git+https://github.com/NVlabs/nvdiffrast/\n",
        "!pip install --global-option=\"--no-networks\" git+https://github.com/NVlabs/tiny-cuda-nn/#subdirectory=bindings/torch\n",
        "!imageio_download_bin freeimage"
      ]
    },
    {
      "cell_type": "code",
      "source": [
        "!git clone https://github.com/NVlabs/nvdiffrec.git\n"
      ],
      "metadata": {
        "id": "UeU-nEZWqEDy"
      },
      "execution_count": null,
      "outputs": []
    },
    {
      "cell_type": "code",
      "source": [
        "%cd nvdiffrec\n",
        "!python train.py --config configs/bob.json"
      ],
      "metadata": {
        "id": "rafePkzYqY5U"
      },
      "execution_count": null,
      "outputs": []
    },
    {
      "cell_type": "code",
      "source": [
        "!zip -r out.zip out"
      ],
      "metadata": {
        "id": "zaspMc13yIUf"
      },
      "execution_count": null,
      "outputs": []
    }
  ]
}